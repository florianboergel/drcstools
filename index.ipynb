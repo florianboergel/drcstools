{
 "cells": [
  {
   "cell_type": "code",
   "execution_count": null,
   "metadata": {},
   "outputs": [],
   "source": [
    "#hide\n",
    "from nbdev import *"
   ]
  },
  {
   "cell_type": "markdown",
   "metadata": {},
   "source": [
    "# Dynamics of Regional Climate Systems (DRCS) - Tools\n",
    "\n",
    "> For data analysis"
   ]
  },
  {
   "cell_type": "markdown",
   "metadata": {},
   "source": [
    "## Content\n",
    "\n",
    "- Stormtracks\n",
    "    * Follows Benestad et al. (2006)+\n",
    "- derivative\n",
    "    * Calculates first and second derivative following Gill (1981)\n",
    "- stats\n",
    "    * spatial mean added\n",
    "    * regression function for regression maps and more\n",
    "- helper_functions\n",
    "    * reading netcdf files using xarray\n",
    "    * adjusting 0-360 lon to -180 to 180 \n",
    "    * much more\n",
    "- total exchange flow\n",
    "    * using xarray\n",
    "    "
   ]
  },
  {
   "cell_type": "markdown",
   "metadata": {},
   "source": [
    "## Install"
   ]
  },
  {
   "cell_type": "markdown",
   "metadata": {},
   "source": [
    "`pip install drcstools`"
   ]
  },
  {
   "cell_type": "markdown",
   "metadata": {},
   "source": [
    "## How to use"
   ]
  },
  {
   "cell_type": "markdown",
   "metadata": {},
   "source": [
    "Usecase + concept"
   ]
  }
 ],
 "metadata": {
  "kernelspec": {
   "display_name": "Python 3",
   "language": "python",
   "name": "python3"
  }
 },
 "nbformat": 4,
 "nbformat_minor": 4
}
