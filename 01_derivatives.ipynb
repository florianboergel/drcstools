{
 "cells": [
  {
   "cell_type": "code",
   "execution_count": null,
   "metadata": {},
   "outputs": [],
   "source": [
    "# default_exp derivative\n",
    "\n",
    "# default_cls_lvl 3"
   ]
  },
  {
   "cell_type": "code",
   "execution_count": null,
   "metadata": {},
   "outputs": [],
   "source": [
    "#export\n",
    "import xarray as xr\n",
    "import numpy as np\n",
    "from tqdm import tqdm"
   ]
  },
  {
   "cell_type": "markdown",
   "metadata": {},
   "source": [
    "# Derivatives\n",
    "\n",
    "> calculates derivatives from storm object"
   ]
  },
  {
   "cell_type": "code",
   "execution_count": null,
   "metadata": {},
   "outputs": [],
   "source": [
    "#export\n",
    "def harmonicRegression(self, data, N):\n",
    "    \"\"\"Returns Fourier coefficients\"\"\"\n",
    "    result = np.zeros((N, 2))\n",
    "    T = len(data)\n",
    "    t = np.arange(T)\n",
    "    for n in range(N):\n",
    "        result[n,0] = 2/T*(data * np.cos(2*np.pi*n*t/T)).sum()\n",
    "        result[n,1] = 2/T*(data * np.sin(2*np.pi*n*t/T)).sum()\n",
    "    return result\n",
    "\n",
    "def derivative(self, variable, N = 20, dim = \"\", order = 1):\n",
    "    \"\"\"\n",
    "    Calculates the first and second derivative in dimension\n",
    "    of choice, applying a harmonic regression.\n",
    "    See Benestad et al. (2006)\n",
    "    \"\"\"\n",
    "    dp = np.zeros((self.ds[variable].data.shape))\n",
    "\n",
    "    if dim == self._time_name:\n",
    "        print(\"Calculating d/dt for all lon, lat points ...\")\n",
    "        for i in tqdm(range(len(self.ds[self._latitude_name]))):\n",
    "            for ii in range(len(self.ds[self._longitude_name])):\n",
    "                dp[:, i, ii] =  self.calc_dX(self.ds[variable].data[:, i, ii], N, order)\n",
    "    elif dim == self._latitude_name:\n",
    "        print(\"Calculating d/dlat for all time, lon points ...\")\n",
    "        for i in tqdm(range(len(self.ds[self._time_name]))):\n",
    "            for ii in range(len(self.ds[self._longitude_name])):\n",
    "                dp[i, :, ii] =  self.calc_dX(self.ds[variable].data[i, :, ii], N, order)\n",
    "    elif dim == self._longitude_name:\n",
    "        print(\"Calculating d/dlon for all time, lat points ...\")\n",
    "        for i in tqdm(range(len(self.ds[self._time_name]))):\n",
    "            for ii in range(len(self.ds[self._latitude_name])):\n",
    "                dp[i, ii, :] =  self.calc_dX(self.ds[variable].data[i, ii, :], N, order)\n",
    "    else:\n",
    "        errmsg = \"{} is not found.\".format(dim)\n",
    "\n",
    "    if order == 1:\n",
    "        self.ds['dd{}{}'.format(dim, variable)] = ([self._time_name, self._latitude_name, self._longitude_name], dp)\n",
    "    if order == 2:\n",
    "        self.ds['d2d{}{}'.format(dim, variable)] = ([self._time_name, self._latitude_name, self._longitude_name], dp)\n",
    "\n",
    "def calc_dX(self, data, N, order):\n",
    "    \"\"\"\n",
    "    Calculation of the derivative using harmonic regression (Fourier fit)\n",
    "    \"\"\"\n",
    "    if np.isnan(data).all() == True:\n",
    "        return\n",
    "\n",
    "    mask = np.isfinite(data)\n",
    "    T = len(data[mask])\n",
    "    t = np.arange(T)\n",
    "\n",
    "    data = data - data.mean()\n",
    "\n",
    "    if N > T:\n",
    "        N = T\n",
    "\n",
    "    anbn = self.harmonicRegression(data[mask], N)\n",
    "\n",
    "    Wi = 2 * np.pi / T\n",
    "\n",
    "    dp = 0\n",
    "\n",
    "    if order == 1:\n",
    "        for i in range(0, N):\n",
    "            dp = dp + (Wi * (-anbn[i,0]*np.sin(Wi*i*t)+anbn[i,1]*np.cos(Wi*i*t)))\n",
    "    elif order == 2:\n",
    "        for i in range(0, N):\n",
    "            dp = dp + (Wi**2 * (-anbn[i,0]*np.cos(Wi*i*t) - anbn[i,1]*np.sin(Wi*i*t)))\n",
    "    else:\n",
    "        print(\"Your selection of order {} is not possible. Only 1th and 2nd derivative possible.\")\n",
    "\n",
    "    tmp = data.copy()\n",
    "    tmp[mask] = dp\n",
    "\n",
    "    return tmp"
   ]
  },
  {
   "cell_type": "code",
   "execution_count": null,
   "metadata": {},
   "outputs": [],
   "source": [
    "#hide\n",
    "from nbdev import *"
   ]
  },
  {
   "cell_type": "code",
   "execution_count": null,
   "metadata": {},
   "outputs": [
    {
     "data": {
      "text/markdown": [
       "<h4 id=\"calc_dX\" class=\"doc_header\"><code>calc_dX</code><a href=\"__main__.py#L43\" class=\"source_link\" style=\"float:right\">[source]</a></h4>\n",
       "\n",
       "> <code>calc_dX</code>(**`data`**, **`N`**, **`order`**)\n",
       "\n",
       "Calculation of the derivative using harmonic regression (Fourier fit)"
      ],
      "text/plain": [
       "<IPython.core.display.Markdown object>"
      ]
     },
     "metadata": {},
     "output_type": "display_data"
    },
    {
     "data": {
      "text/markdown": [
       "<h4 id=\"harmonicRegression\" class=\"doc_header\"><code>harmonicRegression</code><a href=\"__main__.py#L2\" class=\"source_link\" style=\"float:right\">[source]</a></h4>\n",
       "\n",
       "> <code>harmonicRegression</code>(**`data`**, **`N`**)\n",
       "\n",
       "Returns Fourier coefficients"
      ],
      "text/plain": [
       "<IPython.core.display.Markdown object>"
      ]
     },
     "metadata": {},
     "output_type": "display_data"
    },
    {
     "data": {
      "text/markdown": [
       "<h4 id=\"derivative\" class=\"doc_header\"><code>derivative</code><a href=\"__main__.py#L12\" class=\"source_link\" style=\"float:right\">[source]</a></h4>\n",
       "\n",
       "> <code>derivative</code>(**`variable`**, **`N`**=*`20`*, **`dim`**=*`''`*, **`order`**=*`1`*)\n",
       "\n",
       "Calculates the first and second derivative in dimension \n",
       "of choice, applying a harmonic regression.\n",
       "See Benestad et al. (2006)        "
      ],
      "text/plain": [
       "<IPython.core.display.Markdown object>"
      ]
     },
     "metadata": {},
     "output_type": "display_data"
    }
   ],
   "source": [
    "show_doc(calc_dX)\n",
    "show_doc(harmonicRegression)\n",
    "show_doc(derivative)"
   ]
  },
  {
   "cell_type": "code",
   "execution_count": null,
   "metadata": {},
   "outputs": [
    {
     "name": "stdout",
     "output_type": "stream",
     "text": [
      "Converted 00_storm_object.ipynb.\n",
      "Converted 01_derivatives.ipynb.\n",
      "Converted index.ipynb.\n"
     ]
    }
   ],
   "source": [
    "#hide\n",
    "from nbdev.export import *\n",
    "notebook2script()"
   ]
  }
 ],
 "metadata": {
  "kernelspec": {
   "display_name": "Python 3",
   "language": "python",
   "name": "python3"
  }
 },
 "nbformat": 4,
 "nbformat_minor": 4
}
