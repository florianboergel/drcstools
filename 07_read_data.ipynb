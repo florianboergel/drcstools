{
 "cells": [
  {
   "cell_type": "code",
   "execution_count": null,
   "metadata": {},
   "outputs": [],
   "source": [
    "# default_exp read_data"
   ]
  },
  {
   "cell_type": "markdown",
   "metadata": {},
   "source": [
    "# read_data\n",
    "\n",
    "> read and preprocess netcdf data"
   ]
  },
  {
   "cell_type": "code",
   "execution_count": null,
   "metadata": {},
   "outputs": [],
   "source": [
    "from nbdev import *"
   ]
  },
  {
   "cell_type": "code",
   "execution_count": null,
   "metadata": {},
   "outputs": [],
   "source": [
    "#export\n",
    "import xarray as xr\n",
    "from glob import glob"
   ]
  },
  {
   "cell_type": "code",
   "execution_count": null,
   "metadata": {},
   "outputs": [],
   "source": [
    "#export\n",
    "def transform_calendar(ds,\n",
    "                       timedim=\"time\",\n",
    "                       calendarname=\"proleptic_gregorin\"):\n",
    "    \"\"\"Transforms calendar of time index in xarray dataset\"\"\"\n",
    "    ds[timedim].attrs['calendar'] = calendarname\n",
    "    return ds"
   ]
  },
  {
   "cell_type": "code",
   "execution_count": null,
   "metadata": {},
   "outputs": [
    {
     "data": {
      "text/markdown": [
       "<h4 id=\"transform_calendar\" class=\"doc_header\"><code>transform_calendar</code><a href=\"__main__.py#L2\" class=\"source_link\" style=\"float:right\">[source]</a></h4>\n",
       "\n",
       "> <code>transform_calendar</code>(**`ds`**, **`timedim`**=*`'time'`*, **`calendarname`**=*`'proleptic_gregorin'`*)\n",
       "\n",
       "Transforms calendar of time index in xarray dataset"
      ],
      "text/plain": [
       "<IPython.core.display.Markdown object>"
      ]
     },
     "metadata": {},
     "output_type": "display_data"
    }
   ],
   "source": [
    "show_doc(transform_calendar)"
   ]
  },
  {
   "cell_type": "markdown",
   "metadata": {},
   "source": [
    "Use in combination with `xr.open_dataset([...], decode_time=False)`\n",
    "\n",
    "Args:\n",
    "- ds (object): xarray dataset\n",
    "\n",
    "Kwargs:\n",
    "\n",
    "- timedim (string): name of time dim\n",
    "- calendarname (string): calendar name\n",
    "\n",
    "Returns: \n",
    "- ds (xarray dataset)"
   ]
  },
  {
   "cell_type": "code",
   "execution_count": null,
   "metadata": {},
   "outputs": [],
   "source": [
    "#export\n",
    "def read_netcdfs(files, dim, transform_func, transform_calendar=None, cftime = True):\n",
    "    \"\"\"Reads multiples netcdfs files. Should be used when open_mfdatasets is to slow.\"\"\"\n",
    "    def process_one_path(path):\n",
    "        if transform_calendar is not None:\n",
    "            calendar = False\n",
    "        else:\n",
    "            calendar = True\n",
    "        with xr.open_dataset(path, decode_times = calendar, use_cftime = cftime) as ds:\n",
    "            if transform_calendar is not None:\n",
    "                ds[dim].attrs['calendar'] = transform_calendar\n",
    "                ds = xr.decode_cf(ds, use_cftime = cftime)\n",
    "            if transform_func is not None:\n",
    "                ds = transform_func(ds)\n",
    "            ds.load()\n",
    "            return ds\n",
    "    paths = sorted(glob(files))\n",
    "    datasets = [process_one_path(p) for p in paths]\n",
    "    combined = xr.concat(datasets, dim)\n",
    "    return combined"
   ]
  },
  {
   "cell_type": "code",
   "execution_count": null,
   "metadata": {},
   "outputs": [
    {
     "data": {
      "text/markdown": [
       "<h4 id=\"read_netcdfs\" class=\"doc_header\"><code>read_netcdfs</code><a href=\"__main__.py#L2\" class=\"source_link\" style=\"float:right\">[source]</a></h4>\n",
       "\n",
       "> <code>read_netcdfs</code>(**`files`**, **`dim`**, **`transform_func`**, **`transform_calendar`**=*`None`*, **`cftime`**=*`True`*)\n",
       "\n",
       "Reads multiples netcdfs files. Should be used when open_mfdatasets is to slow."
      ],
      "text/plain": [
       "<IPython.core.display.Markdown object>"
      ]
     },
     "metadata": {},
     "output_type": "display_data"
    }
   ],
   "source": [
    "show_doc(read_netcdfs)"
   ]
  },
  {
   "cell_type": "markdown",
   "metadata": {},
   "source": [
    "Args:\n",
    "- files : Path to files (str)\n",
    "- dim : dimension to concat files (if transform_calendar=T, concat along time)\n",
    "- transform_func : additional preprocessing option\n",
    "- transform_calendar : name of calendar (see function transform_calendar())\n",
    "\n",
    "Returns:\n",
    "- combined netcdf files as xarray object\n",
    "\n",
    "Example:\n",
    "\n",
    "\n",
    "combined =  read_netcdfs(\"*.nc\", dim = \"TIME\",\n",
    "                transform_func=lambda ds:ds.salt,\n",
    "                transform_calendar=\"proleptic_gregorian\")"
   ]
  }
 ],
 "metadata": {
  "kernelspec": {
   "display_name": "Python 3",
   "language": "python",
   "name": "python3"
  }
 },
 "nbformat": 4,
 "nbformat_minor": 4
}
