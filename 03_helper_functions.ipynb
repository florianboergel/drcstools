{
 "cells": [
  {
   "cell_type": "code",
   "execution_count": null,
   "metadata": {},
   "outputs": [],
   "source": [
    "# default_exp helper_functions"
   ]
  },
  {
   "cell_type": "markdown",
   "metadata": {},
   "source": [
    "# helper_functions\n",
    "\n",
    "> read and preprocess netcdf data"
   ]
  },
  {
   "cell_type": "code",
   "execution_count": null,
   "metadata": {},
   "outputs": [],
   "source": [
    "from nbdev import *\n",
    "from drcstools.helper_functions import *"
   ]
  },
  {
   "cell_type": "code",
   "execution_count": null,
   "metadata": {},
   "outputs": [],
   "source": [
    "#export\n",
    "import xarray as xr\n",
    "import numpy as np\n",
    "from glob import glob"
   ]
  },
  {
   "cell_type": "code",
   "execution_count": null,
   "metadata": {},
   "outputs": [],
   "source": [
    "#export\n",
    "def rotated_grid_transform(grid_in, option, SP_coor):\n",
    "    \"\"\"\n",
    "    rotated pole\n",
    "    \"\"\"\n",
    "\n",
    "    pi = np.pi\n",
    "    lon = grid_in[0]\n",
    "    lat = grid_in[1];\n",
    "\n",
    "    lon = (lon*pi)/180; # Convert degrees to radians\n",
    "    lat = (lat*pi)/180;\n",
    "\n",
    "    SP_lon = SP_coor[0];\n",
    "    SP_lat = SP_coor[1];\n",
    "\n",
    "    SP_lon = SP_lon - 180\n",
    "    SP_lat = -SP_lat\n",
    "\n",
    "    theta = 90+SP_lat; # Rotation around y-axis\n",
    "    phi = SP_lon; # Rotation around z-axis\n",
    "\n",
    "    theta = (theta*pi)/180;\n",
    "    phi = (phi*pi)/180; # Convert degrees to radians\n",
    "\n",
    "    x = np.cos(lon)*np.cos(lat); # Convert from spherical to cartesian coordinates\n",
    "    y = np.sin(lon)*np.cos(lat);\n",
    "    z = np.sin(lat);\n",
    "\n",
    "    if option == 1: # Regular -> Rotated\n",
    "\n",
    "        x_new = np.cos(theta)*np.cos(phi)*x + np.cos(theta)*np.sin(phi)*y + np.sin(theta)*z;\n",
    "        y_new = -np.sin(phi)*x + np.cos(phi)*y;\n",
    "        z_new = -np.sin(theta)*np.cos(phi)*x - np.sin(theta)*np.sin(phi)*y + np.cos(theta)*z;\n",
    "\n",
    "    else:  # Rotated -> Regular\n",
    "\n",
    "        phi = -phi;\n",
    "        theta = -theta;\n",
    "\n",
    "        x_new = np.cos(theta)*np.cos(phi)*x + np.sin(phi)*y + np.sin(theta)*np.cos(phi)*z;\n",
    "        y_new = -np.cos(theta)*np.sin(phi)*x + np.cos(phi)*y - np.sin(theta)*np.sin(phi)*z;\n",
    "        z_new = -np.sin(theta)*x + np.cos(theta)*z;\n",
    "\n",
    "    lon_new = np.arctan2(y_new,x_new); # Convert cartesian back to spherical coordinates\n",
    "    lat_new = np.arcsin(z_new);\n",
    "\n",
    "    lon_new = (lon_new*180)/pi; # Convert radians back to degrees\n",
    "    lat_new = (lat_new*180)/pi;\n",
    "\n",
    "    return lon_new , lat_new"
   ]
  },
  {
   "cell_type": "code",
   "execution_count": null,
   "metadata": {},
   "outputs": [],
   "source": [
    "#export\n",
    "def adjust_lon_lat(ds, lon_name, lat_name, reverse = False):\n",
    "    \"\"\"Adjusts longitude from 0 to 360 to -180 to 180 and reverses latitude.\"\"\"\n",
    "\n",
    "    if reverse == True:\n",
    "        ds = ds.reindex({lat_name:ds[lat_name][::-1]})\n",
    "\n",
    "    ds['_longitude_adjusted'] = xr.where(\n",
    "        ds[lon_name] > 180,\n",
    "        ds[lon_name] - 360,\n",
    "        ds[lon_name])\n",
    "\n",
    "    ds = (ds\n",
    "          .swap_dims({lon_name: '_longitude_adjusted'})\n",
    "          .sel(**{'_longitude_adjusted': sorted(ds._longitude_adjusted)})\n",
    "          .drop(lon_name))\n",
    "\n",
    "    ds = ds.rename({'_longitude_adjusted': lon_name})\n",
    "\n",
    "    return ds"
   ]
  },
  {
   "cell_type": "code",
   "execution_count": null,
   "metadata": {},
   "outputs": [
    {
     "data": {
      "text/markdown": [
       "<h4 id=\"adjust_lon_lat\" class=\"doc_header\"><code>adjust_lon_lat</code><a href=\"__main__.py#L2\" class=\"source_link\" style=\"float:right\">[source]</a></h4>\n",
       "\n",
       "> <code>adjust_lon_lat</code>(**`ds`**, **`lon_name`**, **`lat_name`**, **`reverse`**=*`False`*)\n",
       "\n",
       "Adjusts longitude from 0 to 360 to -180 to 180 and reverses latitude."
      ],
      "text/plain": [
       "<IPython.core.display.Markdown object>"
      ]
     },
     "metadata": {},
     "output_type": "display_data"
    }
   ],
   "source": [
    "show_doc(adjust_lon_lat)"
   ]
  },
  {
   "cell_type": "markdown",
   "metadata": {},
   "source": [
    "Args:\n",
    "- ds (xarray): xarray Dataset\n",
    "- lon_name (str): name of longitude in ds\n",
    "- lat_name (str): name of latitude in ds \n",
    "- reverse (bool): if True latitude is reversed\n",
    "\n",
    "Returns: \n",
    "- ds (xarray)  "
   ]
  },
  {
   "cell_type": "code",
   "execution_count": null,
   "metadata": {},
   "outputs": [],
   "source": [
    "#export\n",
    "def guess_bounds(points, bound_position=0.5):\n",
    "    \"\"\"\n",
    "    Guess bounds of grid cells.\n",
    "\n",
    "    Simplified function from iris.coord.Coord.\n",
    "\n",
    "    Parameters\n",
    "    ----------\n",
    "    points: numpy.array\n",
    "        Array of grid points of shape (N,).\n",
    "    bound_position: float, optional\n",
    "        Bounds offset relative to the grid cell centre.\n",
    "    Returns\n",
    "    -------\n",
    "    Array of shape (N, 2).\n",
    "    \"\"\"\n",
    "    diffs = np.diff(points)\n",
    "    diffs = np.insert(diffs, 0, diffs[0])\n",
    "    diffs = np.append(diffs, diffs[-1])\n",
    "\n",
    "    min_bounds = points - diffs[:-1] * bound_position\n",
    "    max_bounds = points + diffs[1:] * (1 - bound_position)\n",
    "\n",
    "    return np.array([min_bounds, max_bounds]).transpose()"
   ]
  },
  {
   "cell_type": "code",
   "execution_count": null,
   "metadata": {},
   "outputs": [
    {
     "data": {
      "text/markdown": [
       "<h4 id=\"guess_bounds\" class=\"doc_header\"><code>guess_bounds</code><a href=\"__main__.py#L2\" class=\"source_link\" style=\"float:right\">[source]</a></h4>\n",
       "\n",
       "> <code>guess_bounds</code>(**`points`**, **`bound_position`**=*`0.5`*)\n",
       "\n",
       "Guess bounds of grid cells.\n",
       "\n",
       "Simplified function from iris.coord.Coord.\n",
       "\n",
       "Parameters\n",
       "----------\n",
       "points: numpy.array\n",
       "    Array of grid points of shape (N,).\n",
       "bound_position: float, optional\n",
       "    Bounds offset relative to the grid cell centre.\n",
       "Returns\n",
       "-------\n",
       "Array of shape (N, 2)."
      ],
      "text/plain": [
       "<IPython.core.display.Markdown object>"
      ]
     },
     "metadata": {},
     "output_type": "display_data"
    }
   ],
   "source": [
    "show_doc(guess_bounds)"
   ]
  },
  {
   "cell_type": "code",
   "execution_count": null,
   "metadata": {},
   "outputs": [],
   "source": [
    "#export\n",
    "def quadrant_area(radian_lat_bounds, radian_lon_bounds, radius_of_earth):\n",
    "    \"\"\"\n",
    "    Calculate spherical segment areas.\n",
    "    Taken from SciTools iris library.\n",
    "    Area weights are calculated for each lat/lon cell as:\n",
    "        .. math::\n",
    "            r^2 (lon_1 - lon_0) ( sin(lat_1) - sin(lat_0))\n",
    "    The resulting array will have a shape of\n",
    "    *(radian_lat_bounds.shape[0], radian_lon_bounds.shape[0])*\n",
    "    The calculations are done at 64 bit precision and the returned array\n",
    "    will be of type numpy.float64.\n",
    "    Parameters\n",
    "    ----------\n",
    "    radian_lat_bounds: numpy.array\n",
    "        Array of latitude bounds (radians) of shape (M, 2)\n",
    "    radian_lon_bounds: numpy.array\n",
    "        Array of longitude bounds (radians) of shape (N, 2)\n",
    "    radius_of_earth: float\n",
    "        Radius of the Earth (currently assumed spherical)\n",
    "    Returns\n",
    "    -------\n",
    "    Array of grid cell areas of shape (M, N).\n",
    "    \"\"\"\n",
    "    # ensure pairs of bounds\n",
    "    if (\n",
    "        radian_lat_bounds.shape[-1] != 2\n",
    "        or radian_lon_bounds.shape[-1] != 2\n",
    "        or radian_lat_bounds.ndim != 2\n",
    "        or radian_lon_bounds.ndim != 2\n",
    "    ):\n",
    "        raise ValueError(\"Bounds must be [n,2] array\")\n",
    "\n",
    "    # fill in a new array of areas\n",
    "    radius_sqr = radius_of_earth ** 2\n",
    "    radian_lat_64 = radian_lat_bounds.astype(np.float64)\n",
    "    radian_lon_64 = radian_lon_bounds.astype(np.float64)\n",
    "\n",
    "    ylen = np.sin(radian_lat_64[:, 1]) - np.sin(radian_lat_64[:, 0])\n",
    "    xlen = radian_lon_64[:, 1] - radian_lon_64[:, 0]\n",
    "    areas = radius_sqr * np.outer(ylen, xlen)\n",
    "\n",
    "    # we use abs because backwards bounds (min > max) give negative areas.\n",
    "    return np.abs(areas)"
   ]
  },
  {
   "cell_type": "code",
   "execution_count": null,
   "metadata": {},
   "outputs": [
    {
     "data": {
      "text/markdown": [
       "<h4 id=\"quadrant_area\" class=\"doc_header\"><code>quadrant_area</code><a href=\"__main__.py#L2\" class=\"source_link\" style=\"float:right\">[source]</a></h4>\n",
       "\n",
       "> <code>quadrant_area</code>(**`radian_lat_bounds`**, **`radian_lon_bounds`**, **`radius_of_earth`**)\n",
       "\n",
       "Calculate spherical segment areas.\n",
       "Taken from SciTools iris library.\n",
       "Area weights are calculated for each lat/lon cell as:\n",
       "    .. math::\n",
       "        r^2 (lon_1 - lon_0) ( sin(lat_1) - sin(lat_0))\n",
       "The resulting array will have a shape of\n",
       "*(radian_lat_bounds.shape[0], radian_lon_bounds.shape[0])*\n",
       "The calculations are done at 64 bit precision and the returned array\n",
       "will be of type numpy.float64.\n",
       "Parameters\n",
       "----------\n",
       "radian_lat_bounds: numpy.array\n",
       "    Array of latitude bounds (radians) of shape (M, 2)\n",
       "radian_lon_bounds: numpy.array\n",
       "    Array of longitude bounds (radians) of shape (N, 2)\n",
       "radius_of_earth: float\n",
       "    Radius of the Earth (currently assumed spherical)\n",
       "Returns\n",
       "-------\n",
       "Array of grid cell areas of shape (M, N)."
      ],
      "text/plain": [
       "<IPython.core.display.Markdown object>"
      ]
     },
     "metadata": {},
     "output_type": "display_data"
    }
   ],
   "source": [
    "show_doc(quadrant_area)"
   ]
  },
  {
   "cell_type": "code",
   "execution_count": null,
   "metadata": {},
   "outputs": [],
   "source": [
    "#export\n",
    "def grid_cell_areas(lon1d, lat1d, radius=6371000.0):\n",
    "    \"\"\"\n",
    "    Calculate grid cell areas given 1D arrays of longitudes and latitudes\n",
    "    for a planet with the given radius.\n",
    "\n",
    "    Parameters\n",
    "    ----------\n",
    "    lon1d: numpy.array\n",
    "        Array of longitude points [degrees] of shape (M,)\n",
    "    lat1d: numpy.array\n",
    "        Array of latitude points [degrees] of shape (M,)\n",
    "    radius: float, optional\n",
    "        Radius of the planet [metres] (currently assumed spherical)\n",
    "    Returns\n",
    "    -------\n",
    "    Array of grid cell areas [metres**2] of shape (M, N).\n",
    "    \"\"\"\n",
    "    lon_bounds_radian = np.deg2rad(guess_bounds(lon1d))\n",
    "    lat_bounds_radian = np.deg2rad(guess_bounds(lat1d))\n",
    "    area = quadrant_area(lat_bounds_radian, lon_bounds_radian, radius)\n",
    "    return area"
   ]
  },
  {
   "cell_type": "code",
   "execution_count": null,
   "metadata": {},
   "outputs": [
    {
     "data": {
      "text/markdown": [
       "<h4 id=\"grid_cell_areas\" class=\"doc_header\"><code>grid_cell_areas</code><a href=\"__main__.py#L2\" class=\"source_link\" style=\"float:right\">[source]</a></h4>\n",
       "\n",
       "> <code>grid_cell_areas</code>(**`lon1d`**, **`lat1d`**, **`radius`**=*`6371000.0`*)\n",
       "\n",
       "Calculate grid cell areas given 1D arrays of longitudes and latitudes\n",
       "for a planet with the given radius.\n",
       "\n",
       "Parameters\n",
       "----------\n",
       "lon1d: numpy.array\n",
       "    Array of longitude points [degrees] of shape (M,)\n",
       "lat1d: numpy.array\n",
       "    Array of latitude points [degrees] of shape (M,)\n",
       "radius: float, optional\n",
       "    Radius of the planet [metres] (currently assumed spherical)\n",
       "Returns\n",
       "-------\n",
       "Array of grid cell areas [metres**2] of shape (M, N)."
      ],
      "text/plain": [
       "<IPython.core.display.Markdown object>"
      ]
     },
     "metadata": {},
     "output_type": "display_data"
    }
   ],
   "source": [
    "show_doc(grid_cell_areas)"
   ]
  },
  {
   "cell_type": "code",
   "execution_count": null,
   "metadata": {},
   "outputs": [],
   "source": [
    "import xarray\n",
    "ds = xr.open_dataset(\"data/era5.nc\", use_cftime = True).isel(time = slice(0,2))"
   ]
  },
  {
   "cell_type": "code",
   "execution_count": null,
   "metadata": {},
   "outputs": [],
   "source": [
    "lons = ds.longitude.values\n",
    "lats = ds.latitude.values"
   ]
  },
  {
   "cell_type": "code",
   "execution_count": null,
   "metadata": {},
   "outputs": [],
   "source": [
    "area_t = grid_cell_areas(lon1d = lons, lat1d = lats)"
   ]
  },
  {
   "cell_type": "code",
   "execution_count": null,
   "metadata": {},
   "outputs": [],
   "source": [
    "ds['area_t'] = ((\"latitude\", \"longitude\"), area_t)"
   ]
  },
  {
   "cell_type": "code",
   "execution_count": null,
   "metadata": {},
   "outputs": [
    {
     "data": {
      "text/plain": [
       "<matplotlib.collections.QuadMesh at 0x7fefa0a13a60>"
      ]
     },
     "execution_count": null,
     "metadata": {},
     "output_type": "execute_result"
    },
    {
     "data": {
      "image/png": "[encoded data removed]",
      "text/plain": [
       "<Figure size 432x288 with 2 Axes>"
      ]
     },
     "metadata": {
      "needs_background": "light"
     },
     "output_type": "display_data"
    }
   ],
   "source": [
    "ds.area_t.plot()"
   ]
  }
 ],
 "metadata": {
  "kernelspec": {
   "display_name": "Python 3",
   "language": "python",
   "name": "python3"
  }
 },
 "nbformat": 4,
 "nbformat_minor": 4
}
