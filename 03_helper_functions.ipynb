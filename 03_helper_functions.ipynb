{
 "cells": [
  {
   "cell_type": "code",
   "execution_count": null,
   "metadata": {},
   "outputs": [],
   "source": [
    "# default_exp helper_functions"
   ]
  },
  {
   "cell_type": "code",
   "execution_count": null,
   "metadata": {},
   "outputs": [],
   "source": [
    "from nbdev import *"
   ]
  },
  {
   "cell_type": "markdown",
   "metadata": {},
   "source": [
    "# helper_functions\n",
    "\n",
    "> read and preprocess netcdf data"
   ]
  },
  {
   "cell_type": "code",
   "execution_count": null,
   "metadata": {},
   "outputs": [],
   "source": [
    "#export\n",
    "import xarray as xr\n",
    "import numpy as np\n",
    "from glob import glob"
   ]
  },
  {
   "cell_type": "code",
   "execution_count": null,
   "metadata": {},
   "outputs": [],
   "source": [
    "#export\n",
    "def rotated_grid_transform(grid_in, option, SP_coor):\n",
    "    \"\"\"\n",
    "    rotated pole\n",
    "    \"\"\"\n",
    "    \n",
    "    pi = np.pi\n",
    "    lon = grid_in[0]\n",
    "    lat = grid_in[1];\n",
    "\n",
    "    lon = (lon*pi)/180; # Convert degrees to radians\n",
    "    lat = (lat*pi)/180;\n",
    "\n",
    "    SP_lon = SP_coor[0];\n",
    "    SP_lat = SP_coor[1];\n",
    "    \n",
    "    SP_lon = SP_lon - 180\n",
    "    SP_lat = -SP_lat\n",
    "\n",
    "    theta = 90+SP_lat; # Rotation around y-axis\n",
    "    phi = SP_lon; # Rotation around z-axis\n",
    "\n",
    "    theta = (theta*pi)/180;\n",
    "    phi = (phi*pi)/180; # Convert degrees to radians\n",
    "\n",
    "    x = np.cos(lon)*np.cos(lat); # Convert from spherical to cartesian coordinates\n",
    "    y = np.sin(lon)*np.cos(lat);\n",
    "    z = np.sin(lat);\n",
    "\n",
    "    if option == 1: # Regular -> Rotated\n",
    "\n",
    "        x_new = np.cos(theta)*np.cos(phi)*x + np.cos(theta)*np.sin(phi)*y + np.sin(theta)*z;\n",
    "        y_new = -np.sin(phi)*x + np.cos(phi)*y;\n",
    "        z_new = -np.sin(theta)*np.cos(phi)*x - np.sin(theta)*np.sin(phi)*y + np.cos(theta)*z;\n",
    "\n",
    "    else:  # Rotated -> Regular\n",
    "\n",
    "        phi = -phi;\n",
    "        theta = -theta;\n",
    "\n",
    "        x_new = np.cos(theta)*np.cos(phi)*x + np.sin(phi)*y + np.sin(theta)*np.cos(phi)*z;\n",
    "        y_new = -np.cos(theta)*np.sin(phi)*x + np.cos(phi)*y - np.sin(theta)*np.sin(phi)*z;\n",
    "        z_new = -np.sin(theta)*x + np.cos(theta)*z;\n",
    "\n",
    "    lon_new = np.arctan2(y_new,x_new); # Convert cartesian back to spherical coordinates\n",
    "    lat_new = np.arcsin(z_new);\n",
    "\n",
    "    lon_new = (lon_new*180)/pi; # Convert radians back to degrees\n",
    "    lat_new = (lat_new*180)/pi;\n",
    "\n",
    "    return lon_new , lat_new"
   ]
  },
  {
   "cell_type": "code",
   "execution_count": null,
   "metadata": {},
   "outputs": [],
   "source": [
    "def transform_calendar(ds,\n",
    "                       timedim=\"time\",\n",
    "                       calendarname=\"proleptic_gregorin\"):\n",
    "    \"\"\"Transforms calendar of time index in xarray dataset\"\"\"\n",
    "    ds[timedim].attrs['calendar'] = calendarname\n",
    "    return ds"
   ]
  },
  {
   "cell_type": "code",
   "execution_count": null,
   "metadata": {},
   "outputs": [
    {
     "data": {
      "text/markdown": [
       "<h4 id=\"transform_calendar\" class=\"doc_header\"><code>transform_calendar</code><a href=\"__main__.py#L1\" class=\"source_link\" style=\"float:right\">[source]</a></h4>\n",
       "\n",
       "> <code>transform_calendar</code>(**`ds`**, **`timedim`**=*`'time'`*, **`calendarname`**=*`'proleptic_gregorin'`*)\n",
       "\n",
       "Transforms calendar of time index in xarray dataset"
      ],
      "text/plain": [
       "<IPython.core.display.Markdown object>"
      ]
     },
     "metadata": {},
     "output_type": "display_data"
    }
   ],
   "source": [
    "show_doc(transform_calendar)"
   ]
  },
  {
   "cell_type": "markdown",
   "metadata": {},
   "source": [
    "Use in combination with `xr.open_dataset([...], decode_time=False)`\n",
    "\n",
    "Args:\n",
    "- ds (object): xarray dataset\n",
    "\n",
    "Kwargs:\n",
    "\n",
    "- timedim (string): name of time dim\n",
    "- calendarname (string): calendar name\n",
    "\n",
    "Returns: \n",
    "- ds (xarray dataset)\n"
   ]
  },
  {
   "cell_type": "code",
   "execution_count": null,
   "metadata": {},
   "outputs": [],
   "source": [
    "def read_netcdfs(files, dim, transform_func, transform_calendar=None):\n",
    "    \"\"\"Reads multiples netcdfs files. Should be used when open_mfdatasets is to slow.\"\"\"\n",
    "    def process_one_path(path):\n",
    "        if transform_calendar is not None:\n",
    "            calendar = False\n",
    "        else:\n",
    "            calendar = True\n",
    "        with xr.open_dataset(path, decode_times = calendar, use_cftime = True) as ds:\n",
    "            if transform_calendar is not None:\n",
    "                ds[dim].attrs['calendar'] = transform_calendar\n",
    "                ds = xr.decode_cf(ds)\n",
    "            if transform_func is not None:\n",
    "                ds = transform_func(ds)\n",
    "            ds.load()\n",
    "            return ds\n",
    "    paths = sorted(glob(files))\n",
    "    datasets = [process_one_path(p) for p in paths]\n",
    "    combined = xr.concat(datasets, dim)\n",
    "    return combined"
   ]
  },
  {
   "cell_type": "code",
   "execution_count": null,
   "metadata": {},
   "outputs": [
    {
     "data": {
      "text/markdown": [
       "<h4 id=\"read_netcdfs\" class=\"doc_header\"><code>read_netcdfs</code><a href=\"__main__.py#L1\" class=\"source_link\" style=\"float:right\">[source]</a></h4>\n",
       "\n",
       "> <code>read_netcdfs</code>(**`files`**, **`dim`**, **`transform_func`**, **`transform_calendar`**=*`None`*)\n",
       "\n",
       "Reads multiples netcdfs files. Should be used when open_mfdatasets is to slow."
      ],
      "text/plain": [
       "<IPython.core.display.Markdown object>"
      ]
     },
     "metadata": {},
     "output_type": "display_data"
    }
   ],
   "source": [
    "show_doc(read_netcdfs)"
   ]
  },
  {
   "cell_type": "markdown",
   "metadata": {},
   "source": [
    "Args:\n",
    "- files : Path to files (str)\n",
    "- dim : dimension to concat files (if transform_calendar=T, concat along time)\n",
    "- transform_func : additional preprocessing option\n",
    "- transform_calendar : name of calendar (see function transform_calendar())\n",
    "\n",
    "Returns:\n",
    "- combined netcdf files as xarray object\n",
    "\n",
    "Example:\n",
    "\n",
    "```python\n",
    "combined =  read_netcdfs(\"/silod5/boergel/tmp.nc\", dim = \"TIME\",\n",
    "                transform_func=lambda ds:ds.salt,\n",
    "                transform_calendar=\"proleptic_gregorian\")\n",
    "```"
   ]
  },
  {
   "cell_type": "code",
   "execution_count": null,
   "metadata": {},
   "outputs": [],
   "source": [
    "def adjust_lon_lat(ds, lon_name, lat_name, reverse = False):\n",
    "    \"\"\"Adjusts longitude from 0 to 360 to -180 to 180 and reverses latitude.\"\"\"\n",
    "\n",
    "    if reverse == True:\n",
    "        ds = ds.reindex({lat_name:ds[lat_name][::-1]})\n",
    "\n",
    "    ds['_longitude_adjusted'] = xr.where(\n",
    "        ds[lon_name] > 180,\n",
    "        ds[lon_name] - 360,\n",
    "        ds[lon_name])\n",
    "\n",
    "    ds = (ds\n",
    "          .swap_dims({lon_name: '_longitude_adjusted'})\n",
    "          .sel(**{'_longitude_adjusted': sorted(ds._longitude_adjusted)})\n",
    "          .drop(lon_name))\n",
    "\n",
    "    ds = ds.rename({'_longitude_adjusted': lon_name})\n",
    "\n",
    "    return ds"
   ]
  },
  {
   "cell_type": "code",
   "execution_count": null,
   "metadata": {},
   "outputs": [
    {
     "data": {
      "text/markdown": [
       "<h4 id=\"adjust_lon_lat\" class=\"doc_header\"><code>adjust_lon_lat</code><a href=\"__main__.py#L1\" class=\"source_link\" style=\"float:right\">[source]</a></h4>\n",
       "\n",
       "> <code>adjust_lon_lat</code>(**`ds`**, **`lon_name`**, **`lat_name`**, **`reverse`**=*`False`*)\n",
       "\n",
       "Adjusts longitude from 0 to 360 to -180 to 180 and reverses latitude."
      ],
      "text/plain": [
       "<IPython.core.display.Markdown object>"
      ]
     },
     "metadata": {},
     "output_type": "display_data"
    }
   ],
   "source": [
    "show_doc(adjust_lon_lat)"
   ]
  },
  {
   "cell_type": "markdown",
   "metadata": {},
   "source": [
    "Args:\n",
    "- ds (xarray): xarray Dataset\n",
    "- lon_name (str): name of longitude in ds\n",
    "- lat_name (str): name of latitude in ds \n",
    "- reverse (bool): if True latitude is reversed\n",
    "\n",
    "Returns: \n",
    "- ds (xarray)  "
   ]
  }
 ],
 "metadata": {
  "kernelspec": {
   "display_name": "Python 3",
   "language": "python",
   "name": "python3"
  }
 },
 "nbformat": 4,
 "nbformat_minor": 4
}
