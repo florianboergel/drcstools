{
 "cells": [
  {
   "cell_type": "code",
   "execution_count": null,
   "metadata": {},
   "outputs": [],
   "source": [
    "# default_exp cci"
   ]
  },
  {
   "cell_type": "markdown",
   "metadata": {},
   "source": [
    "# Storm detection\n",
    "\n",
    "> finds low pressure systems"
   ]
  },
  {
   "cell_type": "code",
   "execution_count": null,
   "metadata": {},
   "outputs": [],
   "source": [
    "#export\n",
    "import xarray as xr\n",
    "import numpy as np\n",
    "import matplotlib.pyplot as plt"
   ]
  },
  {
   "cell_type": "code",
   "execution_count": null,
   "metadata": {},
   "outputs": [],
   "source": [
    "#export\n",
    "from drcstools.derivative import *\n",
    "\n",
    "\n",
    "def stormdetection(stormobj, slpname = \"slp\", pmax = 100000):\n",
    "    \n",
    "    stormtrack.derivative(slpname, N = 10, dim = stormobj._get_name_longitude())\n",
    "    stormtrack.derivative(slpname, N = 10, dim = stormobj._get_name_latitude())\n",
    "        \n",
    "        \n",
    "    zero_crossings_x = xr.where(xr.ufuncs.signbit(stormtrack.ds.ddlonslp).astype(int).diff(\"lon\") != 0, 1, 0)\n",
    "    zero_crossings_y = xr.where(xr.ufuncs.signbit(stormtrack.ds.ddlatslp).astype(int).diff(\"lat\") != 0, 1, 0)\n",
    "    \n",
    "    zero_crossings = xr.where((zero_crossings_x == 1) & (zero_crossings_y == 1), 1, 0)\n",
    "    \n",
    "    dP = 0.5 * (stormobj.ds.ddlonslp + stormobj.ds.ddlatslp)\n",
    "    Pzonal = dP.mean([stormobj._get_name_time(), stormobj._get_name_latitude()])\n",
    "\n",
    "    lows = stormobj.ds[slpname].where(zero_crossings == 1).where(dP - Pzonal > 1)\n",
    "    lows = lows.where(lows < 100000)\n",
    "    return lows"
   ]
  },
  {
   "cell_type": "markdown",
   "metadata": {},
   "source": [
    "# Examples"
   ]
  },
  {
   "cell_type": "code",
   "execution_count": null,
   "metadata": {},
   "outputs": [],
   "source": [
    "ds = xr.open_dataset(\"data/rca_unrot_data_1_5.nc\", use_cftime = True)\n",
    "ds = ds.rename({\"rlon\":\"lon\", \"rlat\":\"lat\"})"
   ]
  },
  {
   "cell_type": "code",
   "execution_count": null,
   "metadata": {},
   "outputs": [
    {
     "ename": "NameError",
     "evalue": "name 'storm' is not defined",
     "output_type": "error",
     "traceback": [
      "\u001b[0;31m---------------------------------------------------------------------------\u001b[0m",
      "\u001b[0;31mNameError\u001b[0m                                 Traceback (most recent call last)",
      "\u001b[0;32m<ipython-input-5-3b1097eb6d61>\u001b[0m in \u001b[0;36m<module>\u001b[0;34m\u001b[0m\n\u001b[0;32m----> 1\u001b[0;31m \u001b[0mstormtrack\u001b[0m \u001b[0;34m=\u001b[0m \u001b[0mstorm\u001b[0m\u001b[0;34m(\u001b[0m\u001b[0mds\u001b[0m \u001b[0;34m=\u001b[0m \u001b[0mds\u001b[0m\u001b[0;34m)\u001b[0m\u001b[0;34m\u001b[0m\u001b[0;34m\u001b[0m\u001b[0m\n\u001b[0m\u001b[1;32m      2\u001b[0m \u001b[0mstormtrack\u001b[0m\u001b[0;34m.\u001b[0m\u001b[0mset_up\u001b[0m\u001b[0;34m(\u001b[0m\u001b[0mforce\u001b[0m \u001b[0;34m=\u001b[0m \u001b[0;32mTrue\u001b[0m\u001b[0;34m)\u001b[0m\u001b[0;34m\u001b[0m\u001b[0;34m\u001b[0m\u001b[0m\n",
      "\u001b[0;31mNameError\u001b[0m: name 'storm' is not defined"
     ]
    }
   ],
   "source": [
    "stormtrack = storm(ds = ds)\n",
    "stormtrack.set_up(force = True)"
   ]
  },
  {
   "cell_type": "code",
   "execution_count": null,
   "metadata": {},
   "outputs": [],
   "source": [
    "lows = stormdetection(stormtrack)"
   ]
  }
 ],
 "metadata": {
  "kernelspec": {
   "display_name": "Python 3",
   "language": "python",
   "name": "python3"
  }
 },
 "nbformat": 4,
 "nbformat_minor": 4
}
