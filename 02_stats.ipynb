{
 "cells": [
  {
   "cell_type": "code",
   "execution_count": null,
   "metadata": {},
   "outputs": [],
   "source": [
    "# default_exp derivative"
   ]
  },
  {
   "cell_type": "markdown",
   "metadata": {},
   "source": [
    "# stats\n",
    "\n",
    "> tools for statistical analysis"
   ]
  },
  {
   "cell_type": "code",
   "execution_count": null,
   "metadata": {},
   "outputs": [],
   "source": [
    "#export\n",
    "import xarray as xr\n",
    "import numpy as np"
   ]
  },
  {
   "cell_type": "code",
   "execution_count": null,
   "metadata": {},
   "outputs": [],
   "source": [
    "#export\n",
    "def regression(data, index):\n",
    "    \"\"\"\n",
    "    description:\n",
    "        Fast regression for spatial data.\n",
    "    input:\n",
    "        data (nd array) - multidimensional array with time as first dimension\n",
    "        index (1d array) - needs to have the same length as time dim of data\n",
    "    returns:\n",
    "        b0, b1 (nd array) - b0 + b1 * x\n",
    "    \"\"\"\n",
    "\n",
    "    data_flat = data.reshape(data.shape[0], np.product(data.shape[1:]))\n",
    "    \n",
    "    index = np.vstack((np.ones(len(index)), index)).T\n",
    "    beta_hat = np.linalg.inv(index.T.dot(index)).dot(index.T).dot(data_flat)\n",
    "    \n",
    "    b0, b1 = beta_hat[0], beta_hat[1]\n",
    "    b0 = b0.reshape((data.shape[1], data.shape[2]))\n",
    "    b1 = b1.reshape((data.shape[1], data.shape[2]))\n",
    "\n",
    "    return b0, b1"
   ]
  }
 ],
 "metadata": {
  "kernelspec": {
   "display_name": "Python 3",
   "language": "python",
   "name": "python3"
  }
 },
 "nbformat": 4,
 "nbformat_minor": 4
}
